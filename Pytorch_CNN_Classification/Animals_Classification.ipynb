{
  "nbformat": 4,
  "nbformat_minor": 0,
  "metadata": {
    "colab": {
      "provenance": []
    },
    "kernelspec": {
      "name": "python3",
      "display_name": "Python 3"
    },
    "language_info": {
      "name": "python"
    },
    "gpuClass": "standard",
    "accelerator": "GPU"
  },
  "cells": [
    {
      "cell_type": "code",
      "execution_count": null,
      "metadata": {
        "colab": {
          "base_uri": "https://localhost:8080/"
        },
        "id": "ag3F4kKa8HeL",
        "outputId": "f3a42a1c-6b80-48cc-c739-e240f958ed4e"
      },
      "outputs": [
        {
          "output_type": "stream",
          "name": "stdout",
          "text": [
            "Done\n"
          ]
        }
      ],
      "source": [
        "from zipfile import ZipFile\n",
        "file_name=\"/content/drive/MyDrive/Dataset_Wild_Animals.zip\"\n",
        "with ZipFile(file_name,'r') as zip:\n",
        "  zip.extractall(\"Wild_animals_Dataset\")\n",
        "  print('Done')"
      ]
    },
    {
      "cell_type": "code",
      "source": [
        "from google.colab import drive\n",
        "drive.mount('/content/drive')"
      ],
      "metadata": {
        "colab": {
          "base_uri": "https://localhost:8080/"
        },
        "id": "lb8uRV4-uPFn",
        "outputId": "cf5858af-b372-4dee-c5f2-0d8f489e2114"
      },
      "execution_count": null,
      "outputs": [
        {
          "output_type": "stream",
          "name": "stdout",
          "text": [
            "Mounted at /content/drive\n"
          ]
        }
      ]
    },
    {
      "cell_type": "code",
      "source": [
        "import os\n",
        "import numpy as np\n",
        "import torch\n",
        "import glob\n",
        "import torch.nn as nn\n",
        "from torchvision.transforms import transforms\n",
        "from torch.utils.data import DataLoader\n",
        "from torch.optim import Adam\n",
        "from torch.autograd import Variable\n",
        "import torchvision\n",
        "import pathlib"
      ],
      "metadata": {
        "id": "3xFsbTaM9wH2"
      },
      "execution_count": null,
      "outputs": []
    },
    {
      "cell_type": "code",
      "source": [
        "device=torch.device('cuda' if torch.cuda.is_available() else 'cpu')"
      ],
      "metadata": {
        "id": "DUQkcr-Wg15U"
      },
      "execution_count": null,
      "outputs": []
    },
    {
      "cell_type": "code",
      "source": [
        "transformer=transforms.Compose([\n",
        "    transforms.Resize((150,150)),\n",
        "    transforms.RandomHorizontalFlip(),\n",
        "    transforms.ToTensor(),  #0-255 to 0-1, numpy to tensors\n",
        "    transforms.Normalize([0.5,0.5,0.5], # 0-1 to [-1,1] , formula (x-mean)/std\n",
        "                        [0.5,0.5,0.5])\n",
        "])"
      ],
      "metadata": {
        "id": "L7NGzKqJg3_M"
      },
      "execution_count": null,
      "outputs": []
    },
    {
      "cell_type": "code",
      "source": [
        "train_path='/content/Wild_animals_Dataset/training'\n",
        "test_path='/content/Wild_animals_Dataset/validation'\n",
        "\n",
        "train_loader=DataLoader(\n",
        "    torchvision.datasets.ImageFolder(train_path,transform=transformer),\n",
        "    batch_size=64, shuffle=True\n",
        ")\n",
        "test_loader=DataLoader(\n",
        "    torchvision.datasets.ImageFolder(test_path,transform=transformer),\n",
        "    batch_size=32, shuffle=True\n",
        ")"
      ],
      "metadata": {
        "id": "Fvl2v8D5g6Vc"
      },
      "execution_count": null,
      "outputs": []
    },
    {
      "cell_type": "code",
      "source": [
        "#categories\n",
        "root=pathlib.Path(train_path)\n",
        "classes=sorted([j.name.split('/')[-1] for j in root.iterdir()])"
      ],
      "metadata": {
        "id": "BJ4gx0wJhASU"
      },
      "execution_count": null,
      "outputs": []
    },
    {
      "cell_type": "code",
      "source": [
        "print(classes)"
      ],
      "metadata": {
        "colab": {
          "base_uri": "https://localhost:8080/"
        },
        "id": "zcA_a2I-hChc",
        "outputId": "55ad4b26-be1b-4999-9fc2-38000ca40375"
      },
      "execution_count": null,
      "outputs": [
        {
          "output_type": "stream",
          "name": "stdout",
          "text": [
            "['Cheetah', 'Hyena', 'Tiger']\n"
          ]
        }
      ]
    },
    {
      "cell_type": "code",
      "source": [
        "class ConvNet(nn.Module):\n",
        "    def __init__(self,num_classes=3):\n",
        "        super(ConvNet,self).__init__()\n",
        "        \n",
        "        #Output size after convolution filter\n",
        "        #((w-f+2P)/s) +1\n",
        "        \n",
        "        #Input shape= (256,3,150,150)\n",
        "        \n",
        "        self.conv1=nn.Conv2d(in_channels=3,out_channels=12,kernel_size=3,stride=1,padding=1)\n",
        "        #Shape= (256,12,150,150)\n",
        "        self.bn1=nn.BatchNorm2d(num_features=12)\n",
        "        #Shape= (256,12,150,150)\n",
        "        self.relu1=nn.ReLU()\n",
        "        #Shape= (256,12,150,150)\n",
        "        \n",
        "        self.pool=nn.MaxPool2d(kernel_size=2)\n",
        "        self.drop = nn.Dropout2d(p=0.3)\n",
        "        #Reduce the image size be factor 2\n",
        "        #Shape= (256,12,75,75)\n",
        "        \n",
        "        \n",
        "        self.conv2=nn.Conv2d(in_channels=12,out_channels=20,kernel_size=3,stride=1,padding=1)\n",
        "        #Shape= (256,20,75,75)\n",
        "        self.relu2=nn.ReLU()\n",
        "        #Shape= (256,20,75,75)\n",
        "        \n",
        "        \n",
        "        \n",
        "        self.conv3=nn.Conv2d(in_channels=20,out_channels=32,kernel_size=3,stride=1,padding=1)\n",
        "        #Shape= (256,32,75,75)\n",
        "        self.bn3=nn.BatchNorm2d(num_features=32)\n",
        "        #Shape= (256,32,75,75)\n",
        "        self.relu3=nn.ReLU()\n",
        "        #Shape= (256,32,75,75)\n",
        "        \n",
        "        \n",
        "        self.fc=nn.Linear(in_features=75 * 75 * 32,out_features=num_classes)\n",
        "        \n",
        "        \n",
        "        \n",
        "        #Feed forwad function\n",
        "        \n",
        "    def forward(self,input):\n",
        "        output=self.conv1(input)\n",
        "        output=self.bn1(output)\n",
        "        output=self.relu1(output)\n",
        "            \n",
        "        output=self.pool(output)\n",
        "            \n",
        "        output=self.conv2(output)\n",
        "        output=self.relu2(output)\n",
        "            \n",
        "        output=self.conv3(output)\n",
        "        output=self.bn3(output)\n",
        "        output=self.relu3(output)\n",
        "            \n",
        "            \n",
        "            #Above output will be in matrix form, with shape (256,32,75,75)\n",
        "            \n",
        "        output=output.view(-1,32*75*75)\n",
        "            \n",
        "            \n",
        "        output=self.fc(output)\n",
        "            \n",
        "        return output\n",
        "            "
      ],
      "metadata": {
        "id": "U_9d7NcQhFPE"
      },
      "execution_count": null,
      "outputs": []
    },
    {
      "cell_type": "code",
      "source": [
        "model=ConvNet(num_classes=3).to(device)"
      ],
      "metadata": {
        "id": "GK05g-y5hL9U"
      },
      "execution_count": null,
      "outputs": []
    },
    {
      "cell_type": "code",
      "source": [
        "optimizer=Adam(model.parameters(),lr=0.001,weight_decay=0.0001)\n",
        "loss_function=nn.CrossEntropyLoss()"
      ],
      "metadata": {
        "id": "YALz5JXXhOTs"
      },
      "execution_count": null,
      "outputs": []
    },
    {
      "cell_type": "code",
      "source": [
        "train_count=len(glob.glob(train_path+'/**/*.jpg'))\n",
        "test_count=len(glob.glob(test_path+'/**/*.jpg'))"
      ],
      "metadata": {
        "id": "FAkTvp42hQrM"
      },
      "execution_count": null,
      "outputs": []
    },
    {
      "cell_type": "code",
      "source": [
        "print(train_count,test_count)"
      ],
      "metadata": {
        "colab": {
          "base_uri": "https://localhost:8080/"
        },
        "id": "GzaC3jk3hSF8",
        "outputId": "58c30648-39f8-49db-811e-2c5d69bd2c96"
      },
      "execution_count": null,
      "outputs": [
        {
          "output_type": "stream",
          "name": "stdout",
          "text": [
            "2700 300\n"
          ]
        }
      ]
    },
    {
      "cell_type": "code",
      "source": [
        "best_accuracy=0.0\n",
        "\n",
        "for epoch in range(100):\n",
        "    \n",
        "    #Evaluation and training on training dataset\n",
        "    model.train()\n",
        "    train_accuracy=0.0\n",
        "    train_loss=0.0\n",
        "    \n",
        "    for i, (images,labels) in enumerate(train_loader):\n",
        "        if torch.cuda.is_available():\n",
        "            images=Variable(images.cuda())\n",
        "            labels=Variable(labels.cuda())\n",
        "            \n",
        "        optimizer.zero_grad()\n",
        "        \n",
        "        outputs=model(images)\n",
        "        loss=loss_function(outputs,labels)\n",
        "        loss.backward()\n",
        "        optimizer.step()\n",
        "        \n",
        "        \n",
        "        train_loss+= loss.cpu().data*images.size(0)\n",
        "        _,prediction=torch.max(outputs.data,1)\n",
        "        \n",
        "        train_accuracy+=int(torch.sum(prediction==labels.data))\n",
        "        \n",
        "    train_accuracy=train_accuracy/train_count\n",
        "    train_loss=train_loss/train_count\n",
        "    \n",
        "    \n",
        "    # Evaluation on testing dataset\n",
        "    model.eval()\n",
        "    \n",
        "    test_accuracy=0.0\n",
        "    for i, (images,labels) in enumerate(test_loader):\n",
        "        if torch.cuda.is_available():\n",
        "            images=Variable(images.cuda())\n",
        "            labels=Variable(labels.cuda())\n",
        "            \n",
        "        outputs=model(images)\n",
        "        _,prediction=torch.max(outputs.data,1)\n",
        "        test_accuracy+=int(torch.sum(prediction==labels.data))\n",
        "    \n",
        "    test_accuracy=test_accuracy/test_count\n",
        "    \n",
        "    \n",
        "    print('Epoch: '+str(epoch)+' Train Loss: '+str(train_loss)+' Train Accuracy: '+str(round(train_accuracy,2))+' Test Accuracy: '+str(round(test_accuracy,2)))\n",
        "    \n",
        "    #Save the best model\n",
        "    if test_accuracy>best_accuracy:\n",
        "        torch.save(model, \"Wild_animals_CNN.pkl\")\n",
        "        torch.save(model.state_dict(),'best_checkpoint.model')\n",
        "        best_accuracy=test_accuracy\n",
        "    "
      ],
      "metadata": {
        "colab": {
          "base_uri": "https://localhost:8080/"
        },
        "id": "1Fca3-CdhVXs",
        "outputId": "81ecab02-dc00-41bb-f2b6-b5290781bf19"
      },
      "execution_count": null,
      "outputs": [
        {
          "output_type": "stream",
          "name": "stdout",
          "text": [
            "Epoch: 0 Train Loss: tensor(0.6560) Train Accuracy: 0.91 Test Accuracy: 0.75\n",
            "Epoch: 1 Train Loss: tensor(0.3490) Train Accuracy: 0.94 Test Accuracy: 0.68\n",
            "Epoch: 2 Train Loss: tensor(0.4401) Train Accuracy: 0.93 Test Accuracy: 0.76\n",
            "Epoch: 3 Train Loss: tensor(0.1792) Train Accuracy: 0.97 Test Accuracy: 0.82\n",
            "Epoch: 4 Train Loss: tensor(0.1475) Train Accuracy: 0.97 Test Accuracy: 0.79\n",
            "Epoch: 5 Train Loss: tensor(0.1380) Train Accuracy: 0.97 Test Accuracy: 0.78\n",
            "Epoch: 6 Train Loss: tensor(0.1400) Train Accuracy: 0.97 Test Accuracy: 0.78\n",
            "Epoch: 7 Train Loss: tensor(0.1348) Train Accuracy: 0.97 Test Accuracy: 0.82\n",
            "Epoch: 8 Train Loss: tensor(0.2813) Train Accuracy: 0.95 Test Accuracy: 0.77\n",
            "Epoch: 9 Train Loss: tensor(0.2760) Train Accuracy: 0.96 Test Accuracy: 0.64\n",
            "Epoch: 10 Train Loss: tensor(0.5979) Train Accuracy: 0.93 Test Accuracy: 0.69\n",
            "Epoch: 11 Train Loss: tensor(0.6019) Train Accuracy: 0.93 Test Accuracy: 0.77\n",
            "Epoch: 12 Train Loss: tensor(0.5432) Train Accuracy: 0.94 Test Accuracy: 0.76\n",
            "Epoch: 13 Train Loss: tensor(0.2521) Train Accuracy: 0.97 Test Accuracy: 0.78\n",
            "Epoch: 14 Train Loss: tensor(0.1671) Train Accuracy: 0.98 Test Accuracy: 0.78\n",
            "Epoch: 15 Train Loss: tensor(0.0680) Train Accuracy: 0.99 Test Accuracy: 0.81\n",
            "Epoch: 16 Train Loss: tensor(0.0909) Train Accuracy: 0.98 Test Accuracy: 0.85\n",
            "Epoch: 17 Train Loss: tensor(0.0749) Train Accuracy: 0.99 Test Accuracy: 0.77\n",
            "Epoch: 18 Train Loss: tensor(0.2831) Train Accuracy: 0.95 Test Accuracy: 0.66\n",
            "Epoch: 19 Train Loss: tensor(0.2867) Train Accuracy: 0.97 Test Accuracy: 0.82\n",
            "Epoch: 20 Train Loss: tensor(0.0763) Train Accuracy: 0.99 Test Accuracy: 0.83\n",
            "Epoch: 21 Train Loss: tensor(0.0698) Train Accuracy: 0.99 Test Accuracy: 0.82\n",
            "Epoch: 22 Train Loss: tensor(0.0269) Train Accuracy: 0.99 Test Accuracy: 0.81\n",
            "Epoch: 23 Train Loss: tensor(0.0577) Train Accuracy: 0.99 Test Accuracy: 0.81\n",
            "Epoch: 24 Train Loss: tensor(0.1698) Train Accuracy: 0.97 Test Accuracy: 0.83\n",
            "Epoch: 25 Train Loss: tensor(0.1593) Train Accuracy: 0.98 Test Accuracy: 0.81\n",
            "Epoch: 26 Train Loss: tensor(0.1473) Train Accuracy: 0.98 Test Accuracy: 0.83\n",
            "Epoch: 27 Train Loss: tensor(0.1770) Train Accuracy: 0.97 Test Accuracy: 0.79\n",
            "Epoch: 28 Train Loss: tensor(0.5894) Train Accuracy: 0.94 Test Accuracy: 0.83\n",
            "Epoch: 29 Train Loss: tensor(0.4703) Train Accuracy: 0.96 Test Accuracy: 0.71\n",
            "Epoch: 30 Train Loss: tensor(0.2374) Train Accuracy: 0.97 Test Accuracy: 0.86\n",
            "Epoch: 31 Train Loss: tensor(0.0472) Train Accuracy: 0.99 Test Accuracy: 0.81\n",
            "Epoch: 32 Train Loss: tensor(0.0666) Train Accuracy: 0.99 Test Accuracy: 0.85\n",
            "Epoch: 33 Train Loss: tensor(0.0196) Train Accuracy: 1.0 Test Accuracy: 0.83\n",
            "Epoch: 34 Train Loss: tensor(0.0359) Train Accuracy: 0.99 Test Accuracy: 0.84\n",
            "Epoch: 35 Train Loss: tensor(0.0063) Train Accuracy: 1.0 Test Accuracy: 0.87\n",
            "Epoch: 36 Train Loss: tensor(0.0068) Train Accuracy: 1.0 Test Accuracy: 0.85\n",
            "Epoch: 37 Train Loss: tensor(0.0246) Train Accuracy: 0.99 Test Accuracy: 0.86\n",
            "Epoch: 38 Train Loss: tensor(0.0283) Train Accuracy: 0.99 Test Accuracy: 0.83\n",
            "Epoch: 39 Train Loss: tensor(0.0103) Train Accuracy: 1.0 Test Accuracy: 0.85\n",
            "Epoch: 40 Train Loss: tensor(0.0437) Train Accuracy: 0.99 Test Accuracy: 0.86\n",
            "Epoch: 41 Train Loss: tensor(0.0162) Train Accuracy: 1.0 Test Accuracy: 0.84\n",
            "Epoch: 42 Train Loss: tensor(0.0265) Train Accuracy: 0.99 Test Accuracy: 0.83\n",
            "Epoch: 43 Train Loss: tensor(0.0152) Train Accuracy: 1.0 Test Accuracy: 0.85\n",
            "Epoch: 44 Train Loss: tensor(0.0049) Train Accuracy: 1.0 Test Accuracy: 0.82\n",
            "Epoch: 45 Train Loss: tensor(0.0067) Train Accuracy: 1.0 Test Accuracy: 0.84\n",
            "Epoch: 46 Train Loss: tensor(0.0005) Train Accuracy: 1.0 Test Accuracy: 0.85\n",
            "Epoch: 47 Train Loss: tensor(0.0084) Train Accuracy: 1.0 Test Accuracy: 0.87\n",
            "Epoch: 48 Train Loss: tensor(2.5417e-05) Train Accuracy: 1.0 Test Accuracy: 0.87\n",
            "Epoch: 49 Train Loss: tensor(3.1298e-05) Train Accuracy: 1.0 Test Accuracy: 0.87\n",
            "Epoch: 50 Train Loss: tensor(1.6183e-05) Train Accuracy: 1.0 Test Accuracy: 0.88\n",
            "Epoch: 51 Train Loss: tensor(0.0003) Train Accuracy: 1.0 Test Accuracy: 0.84\n",
            "Epoch: 52 Train Loss: tensor(0.0097) Train Accuracy: 1.0 Test Accuracy: 0.88\n",
            "Epoch: 53 Train Loss: tensor(0.0014) Train Accuracy: 1.0 Test Accuracy: 0.88\n",
            "Epoch: 54 Train Loss: tensor(0.0084) Train Accuracy: 1.0 Test Accuracy: 0.87\n",
            "Epoch: 55 Train Loss: tensor(0.0645) Train Accuracy: 0.99 Test Accuracy: 0.84\n",
            "Epoch: 56 Train Loss: tensor(0.1474) Train Accuracy: 0.99 Test Accuracy: 0.79\n",
            "Epoch: 57 Train Loss: tensor(0.6742) Train Accuracy: 0.94 Test Accuracy: 0.82\n",
            "Epoch: 58 Train Loss: tensor(0.3435) Train Accuracy: 0.97 Test Accuracy: 0.83\n",
            "Epoch: 59 Train Loss: tensor(0.4009) Train Accuracy: 0.96 Test Accuracy: 0.8\n",
            "Epoch: 60 Train Loss: tensor(0.5116) Train Accuracy: 0.96 Test Accuracy: 0.82\n",
            "Epoch: 61 Train Loss: tensor(0.1485) Train Accuracy: 0.99 Test Accuracy: 0.81\n",
            "Epoch: 62 Train Loss: tensor(0.2175) Train Accuracy: 0.98 Test Accuracy: 0.85\n",
            "Epoch: 63 Train Loss: tensor(0.0960) Train Accuracy: 0.99 Test Accuracy: 0.85\n",
            "Epoch: 64 Train Loss: tensor(0.0188) Train Accuracy: 1.0 Test Accuracy: 0.87\n",
            "Epoch: 65 Train Loss: tensor(0.0492) Train Accuracy: 0.99 Test Accuracy: 0.86\n",
            "Epoch: 66 Train Loss: tensor(0.0185) Train Accuracy: 1.0 Test Accuracy: 0.84\n",
            "Epoch: 67 Train Loss: tensor(0.0065) Train Accuracy: 1.0 Test Accuracy: 0.85\n",
            "Epoch: 68 Train Loss: tensor(0.0098) Train Accuracy: 1.0 Test Accuracy: 0.88\n",
            "Epoch: 69 Train Loss: tensor(0.0049) Train Accuracy: 1.0 Test Accuracy: 0.86\n",
            "Epoch: 70 Train Loss: tensor(0.0150) Train Accuracy: 1.0 Test Accuracy: 0.88\n",
            "Epoch: 71 Train Loss: tensor(0.0035) Train Accuracy: 1.0 Test Accuracy: 0.89\n",
            "Epoch: 72 Train Loss: tensor(0.0006) Train Accuracy: 1.0 Test Accuracy: 0.87\n",
            "Epoch: 73 Train Loss: tensor(0.0050) Train Accuracy: 1.0 Test Accuracy: 0.86\n",
            "Epoch: 74 Train Loss: tensor(0.0080) Train Accuracy: 1.0 Test Accuracy: 0.88\n",
            "Epoch: 75 Train Loss: tensor(0.0002) Train Accuracy: 1.0 Test Accuracy: 0.88\n",
            "Epoch: 76 Train Loss: tensor(0.0005) Train Accuracy: 1.0 Test Accuracy: 0.87\n",
            "Epoch: 77 Train Loss: tensor(0.0001) Train Accuracy: 1.0 Test Accuracy: 0.86\n",
            "Epoch: 78 Train Loss: tensor(0.0009) Train Accuracy: 1.0 Test Accuracy: 0.86\n",
            "Epoch: 79 Train Loss: tensor(0.0058) Train Accuracy: 1.0 Test Accuracy: 0.88\n",
            "Epoch: 80 Train Loss: tensor(0.0040) Train Accuracy: 1.0 Test Accuracy: 0.86\n",
            "Epoch: 81 Train Loss: tensor(0.0038) Train Accuracy: 1.0 Test Accuracy: 0.85\n",
            "Epoch: 82 Train Loss: tensor(0.0115) Train Accuracy: 1.0 Test Accuracy: 0.87\n",
            "Epoch: 83 Train Loss: tensor(0.0019) Train Accuracy: 1.0 Test Accuracy: 0.87\n",
            "Epoch: 84 Train Loss: tensor(0.0001) Train Accuracy: 1.0 Test Accuracy: 0.87\n",
            "Epoch: 85 Train Loss: tensor(4.2289e-05) Train Accuracy: 1.0 Test Accuracy: 0.89\n",
            "Epoch: 86 Train Loss: tensor(2.8173e-05) Train Accuracy: 1.0 Test Accuracy: 0.87\n",
            "Epoch: 87 Train Loss: tensor(1.2222e-06) Train Accuracy: 1.0 Test Accuracy: 0.86\n",
            "Epoch: 88 Train Loss: tensor(5.0850e-05) Train Accuracy: 1.0 Test Accuracy: 0.87\n",
            "Epoch: 89 Train Loss: tensor(3.3956e-05) Train Accuracy: 1.0 Test Accuracy: 0.89\n",
            "Epoch: 90 Train Loss: tensor(1.6480e-05) Train Accuracy: 1.0 Test Accuracy: 0.88\n",
            "Epoch: 91 Train Loss: tensor(2.2103e-06) Train Accuracy: 1.0 Test Accuracy: 0.86\n",
            "Epoch: 92 Train Loss: tensor(3.7437e-06) Train Accuracy: 1.0 Test Accuracy: 0.89\n",
            "Epoch: 93 Train Loss: tensor(9.0549e-06) Train Accuracy: 1.0 Test Accuracy: 0.87\n",
            "Epoch: 94 Train Loss: tensor(7.1910e-06) Train Accuracy: 1.0 Test Accuracy: 0.89\n",
            "Epoch: 95 Train Loss: tensor(3.4324e-06) Train Accuracy: 1.0 Test Accuracy: 0.88\n",
            "Epoch: 96 Train Loss: tensor(4.6447e-06) Train Accuracy: 1.0 Test Accuracy: 0.88\n",
            "Epoch: 97 Train Loss: tensor(4.0605e-05) Train Accuracy: 1.0 Test Accuracy: 0.87\n",
            "Epoch: 98 Train Loss: tensor(5.8596e-06) Train Accuracy: 1.0 Test Accuracy: 0.87\n",
            "Epoch: 99 Train Loss: tensor(7.3718e-07) Train Accuracy: 1.0 Test Accuracy: 0.89\n"
          ]
        }
      ]
    },
    {
      "cell_type": "code",
      "source": [
        "torch.save(model, \"Wild_animals_CNN.pkl\")\n",
        "model = torch.load(\"/content/Wild_animals_CNN.pkl\")"
      ],
      "metadata": {
        "id": "s_tF6g7N5WjB"
      },
      "execution_count": null,
      "outputs": []
    }
  ]
}