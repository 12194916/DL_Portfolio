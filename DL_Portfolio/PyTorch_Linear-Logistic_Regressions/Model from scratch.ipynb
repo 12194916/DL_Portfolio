{
 "cells": [
  {
   "cell_type": "code",
   "execution_count": 1,
   "id": "6238db48-1a15-4ba6-a733-a3b9c3c242d3",
   "metadata": {},
   "outputs": [],
   "source": [
    "import torch\n",
    "x=torch.tensor(1.0)\n",
    "y=torch.tensor(2.0)\n",
    "w=torch.tensor(1.0,requires_grad=True)"
   ]
  },
  {
   "cell_type": "code",
   "execution_count": 2,
   "id": "e18773f9-1442-4ba0-9cbd-d99ae53571c4",
   "metadata": {},
   "outputs": [
    {
     "data": {
      "text/plain": [
       "tensor(1., grad_fn=<PowBackward0>)"
      ]
     },
     "execution_count": 2,
     "metadata": {},
     "output_type": "execute_result"
    }
   ],
   "source": [
    "#forward pass and compute the loss\n",
    "y_hat=w*x\n",
    "loss=(y_hat-y)**2\n",
    "loss"
   ]
  },
  {
   "cell_type": "code",
   "execution_count": 3,
   "id": "5ec2f176-416d-450e-8dbf-6d78228c17a3",
   "metadata": {},
   "outputs": [
    {
     "data": {
      "text/plain": [
       "tensor(-2.)"
      ]
     },
     "execution_count": 3,
     "metadata": {},
     "output_type": "execute_result"
    }
   ],
   "source": [
    "#backward pass\n",
    "loss.backward()\n",
    "w.grad"
   ]
  },
  {
   "cell_type": "code",
   "execution_count": 4,
   "id": "8a7254c0-a3a2-488c-8a98-db81ec365158",
   "metadata": {},
   "outputs": [],
   "source": [
    "#gradient numpy\n",
    "import numpy as np"
   ]
  },
  {
   "cell_type": "code",
   "execution_count": 5,
   "id": "ee0f77b0-3e40-4c4f-82fe-239f97657489",
   "metadata": {},
   "outputs": [],
   "source": [
    "X=np.array([1,2,3,4],dtype=np.float32)\n",
    "Y=np.array([2,4,6,8],dtype=np.float32)\n",
    "w=0.0"
   ]
  },
  {
   "cell_type": "code",
   "execution_count": 6,
   "id": "e503941b-8ad0-4bdc-be1c-87fe6ee7f6aa",
   "metadata": {},
   "outputs": [],
   "source": [
    "#model prediction\n",
    "def forward(x):\n",
    "    return w*x\n",
    "def loss(y,y_predicted):\n",
    "    return((y_predicted-y)**2).mean()  "
   ]
  },
  {
   "cell_type": "code",
   "execution_count": 9,
   "id": "ad54ac15-0e6e-4d00-a4a9-855cc36a2aad",
   "metadata": {},
   "outputs": [],
   "source": [
    "def gradient(x,y,y_predicted):\n",
    "    return np.dot(2*x,y_predicted-y).mean()\n",
    "print(f'Prediction before training: f(5)={forward(5):.3f}')\n",
    "learning_rate=0.01\n",
    "n_iters=10\n",
    "for epoch in range (n_iters):\n",
    "    y_pred=forward(X)\n",
    "    l=loss(Y,y_pred)\n",
    "    dw=gradient(X,Y,y_pred)\n",
    "    \n",
    "    w-=learning_rate*dw\n",
    "    if epoch%1==0:\n",
    "        print(f'epoch{epoch+1}: w={w:.3f},loss={l:,8f}')\n",
    "        \n",
    "print(f'Prediction before training: f(5)={forward(5):.3f}')\n",
    "    "
   ]
  },
  {
   "cell_type": "code",
   "execution_count": null,
   "id": "e25755eb-3463-415f-8d8b-2737d38faa1e",
   "metadata": {},
   "outputs": [],
   "source": []
  }
 ],
 "metadata": {
  "kernelspec": {
   "display_name": "Python 3 (ipykernel)",
   "language": "python",
   "name": "python3"
  },
  "language_info": {
   "codemirror_mode": {
    "name": "ipython",
    "version": 3
   },
   "file_extension": ".py",
   "mimetype": "text/x-python",
   "name": "python",
   "nbconvert_exporter": "python",
   "pygments_lexer": "ipython3",
   "version": "3.9.13"
  }
 },
 "nbformat": 4,
 "nbformat_minor": 5
}
